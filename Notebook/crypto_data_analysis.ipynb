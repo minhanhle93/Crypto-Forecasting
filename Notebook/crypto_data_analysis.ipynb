{
 "cells": [
  {
   "cell_type": "markdown",
   "id": "99d1e061-7101-46b7-84df-511f4421d843",
   "metadata": {},
   "source": [
    "# Crypto Forecasting "
   ]
  },
  {
   "cell_type": "code",
   "execution_count": null,
   "id": "89e4f138-65e7-4c63-ad02-dff6e5bfb462",
   "metadata": {},
   "outputs": [],
   "source": [
    "# Initial imports\n",
    "import os\n",
    "import requests\n",
    "import pandas as pd\n",
    "from dotenv import load_dotenv\n",
    "import alpaca_trade_api as tradeapi\n",
    "from MCForecastTools import MCSimulation\n",
    "import json\n",
    "import numpy as np\n",
    "import hvplot.pandas\n",
    "%matplotlib inline"
   ]
  },
  {
   "cell_type": "markdown",
   "id": "f5b6221f-9c1a-4186-8716-4266d7151a5f",
   "metadata": {},
   "source": [
    "# Stocks Data"
   ]
  },
  {
   "cell_type": "code",
   "execution_count": null,
   "id": "dba78be6-d2d4-49ee-80b7-728832d849f0",
   "metadata": {},
   "outputs": [],
   "source": [
    "# Load .env environment variables\n",
    "load_dotenv(\"alpaca.env\")"
   ]
  },
  {
   "cell_type": "code",
   "execution_count": null,
   "id": "10749230-a323-481b-8542-745adb61eeda",
   "metadata": {},
   "outputs": [],
   "source": [
    "# Set Alpaca API key and secret\n",
    "alpaca_api_key = os.getenv(\"ALPACA_API_KEY\")\n",
    "alpaca_secret_key = os.getenv(\"ALPACA_SECRET_KEY\")\n",
    "\n",
    "# Create the Alpaca API object\n",
    "alpaca = tradeapi.REST(\n",
    "    alpaca_api_key,\n",
    "    alpaca_secret_key,\n",
    "    api_version = \"v2\")"
   ]
  },
  {
   "cell_type": "code",
   "execution_count": null,
   "id": "163471f9-c33e-4e0f-96a0-fd229037c402",
   "metadata": {},
   "outputs": [],
   "source": [
    "# Set start and end dates of five years back from today.\n",
    "start_date = pd.Timestamp(\"2018-05-01\", tz = \"America/New_York\").isoformat()\n",
    "end_date = pd.Timestamp(\"2023-05-01\", tz = \"America/New_York\").isoformat()\n",
    "\n",
    "# Set the tickers\n",
    "tickers = [\"AAPL\", \"MSFT\", \"AMD\"]\n",
    "timeframe = \"1D\"\n",
    "\n",
    "# Get current closing prices \n",
    "stocks_df = alpaca.get_bars(\n",
    "    tickers,\n",
    "    timeframe,\n",
    "    start = start_date,\n",
    "    end = end_date\n",
    ").df\n",
    "\n",
    "# Reorganize the DataFrame\n",
    "# Separate ticker data\n",
    "AAPL = stocks_df[stocks_df[\"symbol\"]==\"AAPL\"].drop(\"symbol\", axis=1)\n",
    "MSFT = stocks_df[stocks_df[\"symbol\"]==\"MSFT\"].drop(\"symbol\", axis=1)\n",
    "AMD = stocks_df[stocks_df[\"symbol\"]==\"AMD\"].drop(\"symbol\", axis=1)\n",
    "\n",
    "# Concatenate the ticker DataFrames\n",
    "stocks_df = pd.concat([AAPL, MSFT, AMD],axis=1, keys=[\"AAPL\",\"MSFT\", \"AMD\"])\n",
    "\n",
    "# Preview DataFrame\n",
    "stocks_df"
   ]
  },
  {
   "cell_type": "code",
   "execution_count": null,
   "id": "32674cb1-f81e-458b-9462-b35dc766586b",
   "metadata": {},
   "outputs": [],
   "source": [
    "# Count null\n",
    "stocks_df.isnull().sum()"
   ]
  },
  {
   "cell_type": "markdown",
   "id": "9541c068-4506-4f1f-b90d-d661b9df83d8",
   "metadata": {},
   "source": [
    "# Stocks Monte Carlo Simulation"
   ]
  },
  {
   "cell_type": "code",
   "execution_count": null,
   "id": "e290c285-a4b1-4315-8ac9-74c4515ff7b8",
   "metadata": {},
   "outputs": [],
   "source": [
    "# Set number of simulations\n",
    "num_sims = 100\n",
    "\n",
    "# Configure a Monte Carlo simulation to forecast 5 years daily returns\n",
    "MC_stocks = MCSimulation(\n",
    "    portfolio_data = stocks_df,\n",
    "    weights = [1/3,1/3,1/3],\n",
    "    num_simulation = num_sims,\n",
    "    num_trading_days = 252*5\n",
    ")"
   ]
  },
  {
   "cell_type": "code",
   "execution_count": null,
   "id": "b3d4ece7-7bbc-48fc-b3d8-2b549fd844d1",
   "metadata": {},
   "outputs": [],
   "source": [
    "# Run Monte Carlo simulations to forecast 5 years daily returns\n",
    "MC_stocks.calc_cumulative_return()"
   ]
  },
  {
   "cell_type": "code",
   "execution_count": null,
   "id": "a0dcd9d5-c7a4-4f31-9526-b18d2a54d87c",
   "metadata": {},
   "outputs": [],
   "source": [
    "# Plot simulation outcomes\n",
    "stocks_line_plot = MC_stocks.plot_simulation()"
   ]
  },
  {
   "cell_type": "code",
   "execution_count": null,
   "id": "db46759c-d71b-4d2b-ac5f-369368ca63cc",
   "metadata": {},
   "outputs": [],
   "source": [
    "# Plot probability distribution and confidence intervals\n",
    "stocks_dist_plot = MC_stocks.plot_distribution()"
   ]
  },
  {
   "cell_type": "code",
   "execution_count": null,
   "id": "f49ff7db-a0bb-4af8-8427-e971fae9290f",
   "metadata": {},
   "outputs": [],
   "source": [
    "import holoviews as hv\n",
    "from holoviews import opts\n",
    "hv.extension('bokeh')"
   ]
  },
  {
   "cell_type": "code",
   "execution_count": null,
   "id": "a001a713-25ae-4af3-97ce-bf771b86adaa",
   "metadata": {},
   "outputs": [],
   "source": [
    "stocks_simulation_data_df = MC_stocks.simulated_return\n",
    "\n",
    "# Convert the DataFrame to long-form\n",
    "stocks_long_form_data = stocks_simulation_data_df.stack().reset_index()\n",
    "stocks_long_form_data.columns = ['Time', 'Simulation', 'Value']\n",
    "\n",
    "# Create an interactive line plot using Holoviews\n",
    "stocks_curves = {sim: hv.Curve(stocks_long_form_data[stocks_long_form_data['Simulation'] == sim], kdims=['Time'], vdims=['Value']) for sim in stocks_long_form_data['Simulation'].unique()}\n",
    "stocks_interactive_plot = hv.NdOverlay(stocks_curves, kdims='Simulation')\n",
    "\n",
    "# Customize the plot appearance and interactivity (optional)\n",
    "stocks_interactive_plot.opts(\n",
    "    opts.Curve(width=800, height=400, line_alpha=0.8, tools=['hover'], show_grid=True)\n",
    ")"
   ]
  },
  {
   "cell_type": "code",
   "execution_count": null,
   "id": "975bb41a-1f43-41d7-b00a-24f003a2e49b",
   "metadata": {},
   "outputs": [],
   "source": [
    "# Compute summary statistics from the simulated daily returns\n",
    "stocks_returns_data = {\n",
    "    'mean': list(MC_stocks.simulated_return.mean(axis=1)),\n",
    "    'median': list(MC_stocks.simulated_return.median(axis=1)),\n",
    "    'min': list(MC_stocks.simulated_return.min(axis=1)),\n",
    "    'max': list(MC_stocks.simulated_return.max(axis=1))\n",
    "}\n",
    "\n",
    "# Create a DataFrame with the summary statistics\n",
    "stocks_simulated_returns = pd.DataFrame(stocks_returns_data)\n",
    "\n",
    "# Display sample data\n",
    "stocks_simulated_returns.head()"
   ]
  },
  {
   "cell_type": "code",
   "execution_count": null,
   "id": "276dae00-0782-43c3-a175-de7d1ea31830",
   "metadata": {},
   "outputs": [],
   "source": [
    "stocks_simulated_returns[['mean','median']].plot(title='Simulated cumulative return behavior of AAPL, MSFT, AMD over five years')"
   ]
  },
  {
   "cell_type": "code",
   "execution_count": null,
   "id": "21a63f7c-9511-4992-a124-755e163214c5",
   "metadata": {},
   "outputs": [],
   "source": [
    "stocks_tbl = MC_stocks.summarize_cumulative_return()\n",
    "\n",
    "print(stocks_tbl)"
   ]
  },
  {
   "cell_type": "code",
   "execution_count": null,
   "id": "fd0b014a-b955-47fa-97db-c912871cef96",
   "metadata": {},
   "outputs": [],
   "source": [
    "stocks_initial_investment = 10000\n",
    "\n",
    "# Use the lower and upper `95%` confidence intervals to calculate the range of the possible outcomes of our $10,000 investments in AAPL, MSFT, AMD stocks\n",
    "ci_lower = round(stocks_tbl[8]*10000,2)\n",
    "ci_upper = round(stocks_tbl[9]*10000,2)\n",
    "\n",
    "# Print results\n",
    "print(f\"There is a 95% chance that an initial investment of {stocks_initial_investment} in the portfolio over the next year will end within in the range of ${ci_lower} and ${ci_upper}.\")"
   ]
  },
  {
   "cell_type": "code",
   "execution_count": null,
   "id": "6bab0e5c-8e92-4758-82a6-d6907f61b4de",
   "metadata": {},
   "outputs": [],
   "source": [
    "# Extract the closing prices of the three stocks\n",
    "aapl_prices = stocks_df[\"AAPL\"][\"close\"]\n",
    "msft_prices = stocks_df[\"MSFT\"][\"close\"]\n",
    "amd_prices = stocks_df[\"AMD\"][\"close\"]\n",
    "\n",
    "# Calculate the daily returns of each stock\n",
    "aapl_returns = np.log(aapl_prices) - np.log(aapl_prices.shift(1))\n",
    "msft_returns = np.log(msft_prices) - np.log(msft_prices.shift(1))\n",
    "amd_returns = np.log(amd_prices) - np.log(amd_prices.shift(1))"
   ]
  },
  {
   "cell_type": "code",
   "execution_count": null,
   "id": "f3053d14-1294-43cf-806c-cac6741b5678",
   "metadata": {},
   "outputs": [],
   "source": [
    "# Calculate the weighted daily returns\n",
    "stocks_weighted_returns = (1/3) * (aapl_returns + msft_returns + amd_returns)\n",
    "stocks_weighted_returns.dropna()\n",
    "\n",
    "# Convert the daily returns into cumulative returns\n",
    "stocks_cumulative_returns = (1 + stocks_weighted_returns).cumprod()\n",
    "stocks_cumulative_returns.dropna()"
   ]
  },
  {
   "cell_type": "code",
   "execution_count": null,
   "id": "004fdfba-eb80-4d33-b6d6-0a870e4c80f7",
   "metadata": {},
   "outputs": [],
   "source": [
    "# Calculate the portfolio value over time\n",
    "stocks_portfolio_value = 10000 * stocks_cumulative_returns\n",
    "\n",
    "# Retrieve the portfolio value at the last date\n",
    "stocks_final_value = stocks_portfolio_value[1258]\n",
    "print(f\"If you had invested 10,000 evenly into this portfolio on May 1st, 2018 it would be worth {stocks_final_value} today.\")"
   ]
  },
  {
   "cell_type": "code",
   "execution_count": null,
   "id": "a30d609a-4a61-4b94-bd7f-9e4bf3f5df3c",
   "metadata": {},
   "outputs": [],
   "source": [
    "stocks_portfolio_value = stocks_portfolio_value.to_frame()"
   ]
  },
  {
   "cell_type": "code",
   "execution_count": null,
   "id": "8609491e-ad3d-4b91-8fb0-212094921f5e",
   "metadata": {},
   "outputs": [],
   "source": [
    "stocks_portfolio_value.hvplot(title = \"Cummulative Returns of Stocks Portfolio\", xlabel = \"Date\", ylabel = \"Portfolio Value\", width = 800, height = 400)"
   ]
  },
  {
   "cell_type": "markdown",
   "id": "97f0a99c-ec9b-474c-8b2c-6ce159ce47c4",
   "metadata": {},
   "source": [
    "# Forex Data"
   ]
  },
  {
   "cell_type": "code",
   "execution_count": null,
   "id": "dd5f5c2c-6681-4358-b974-a68eb0b76c9e",
   "metadata": {},
   "outputs": [],
   "source": [
    "from pathlib import Path"
   ]
  },
  {
   "cell_type": "code",
   "execution_count": null,
   "id": "26cc61b2-f627-4ada-9737-dc11eb3bbdf9",
   "metadata": {},
   "outputs": [],
   "source": [
    "# Reading EUR\n",
    "EUR_path = Path(\"../resources/EURUSD.csv\")\n",
    "EUR_df = pd.read_csv(EUR_path, index_col = \"Date\", parse_dates = True, infer_datetime_format = True)\n",
    "EUR_df.head()"
   ]
  },
  {
   "cell_type": "code",
   "execution_count": null,
   "id": "7dca967d-eb57-473f-b117-2e06f61dd05a",
   "metadata": {},
   "outputs": [],
   "source": [
    "# Reading GBP\n",
    "GBP_path = Path(\"../resources/GBPUSD.csv\")\n",
    "GBP_df = pd.read_csv(GBP_path, index_col = \"Date\", parse_dates = True, infer_datetime_format = True)\n",
    "GBP_df.head()"
   ]
  },
  {
   "cell_type": "code",
   "execution_count": null,
   "id": "31241be4-6e81-4779-8a81-53a75bf813e0",
   "metadata": {},
   "outputs": [],
   "source": [
    "# Reading JPY\n",
    "JPY_path = Path(\"../resources/JPYUSD.csv\")\n",
    "JPY_df = pd.read_csv(JPY_path, index_col = \"Date\", parse_dates = True, infer_datetime_format = True)\n",
    "JPY_df.head()"
   ]
  },
  {
   "cell_type": "code",
   "execution_count": null,
   "id": "71c21613-4353-40be-9a73-a970cce8f6ef",
   "metadata": {},
   "outputs": [],
   "source": [
    "# Concatenate the DataFrames\n",
    "forex_df = pd.concat([EUR_df, GBP_df, JPY_df],axis=1, keys=[\"EUR\",\"GBP\", \"JPY\"])\n",
    "\n",
    "# Preview DataFrame\n",
    "forex_df"
   ]
  },
  {
   "cell_type": "code",
   "execution_count": null,
   "id": "c61c2819-a143-462e-8521-ef76d9962a13",
   "metadata": {},
   "outputs": [],
   "source": [
    "# Choose the desired timeframe\n",
    "forex_df = forex_df.loc[\"2018-05-01\":\"2023-05-01\"]\n",
    "forex_df"
   ]
  },
  {
   "cell_type": "code",
   "execution_count": null,
   "id": "668cc179-1e62-4a10-a4f1-2f7e5271e510",
   "metadata": {},
   "outputs": [],
   "source": [
    "# Count null\n",
    "forex_df.isnull().sum()"
   ]
  },
  {
   "cell_type": "markdown",
   "id": "c3727fae-b940-4838-8dbb-c174e7ec9ed8",
   "metadata": {},
   "source": [
    "# Crypto"
   ]
  },
  {
   "cell_type": "code",
   "execution_count": null,
   "id": "86d1511b-ecd8-441b-9281-f28dd044a7a4",
   "metadata": {},
   "outputs": [],
   "source": [
    "# Reading BTC\n",
    "BTC_path = Path(\"../resources/BTC-USD.csv\")\n",
    "BTC_df = pd.read_csv(BTC_path, index_col = \"Date\", parse_dates = True, infer_datetime_format = True)\n",
    "BTC_df.head()"
   ]
  },
  {
   "cell_type": "code",
   "execution_count": null,
   "id": "82396272-f9a0-4190-a0a9-d2fa31e77603",
   "metadata": {},
   "outputs": [],
   "source": [
    "# Reading ETH\n",
    "ETH_path = Path(\"../resources/ETH-USD.csv\")\n",
    "ETH_df = pd.read_csv(ETH_path, index_col = \"Date\", parse_dates = True, infer_datetime_format = True)\n",
    "ETH_df.head()"
   ]
  },
  {
   "cell_type": "code",
   "execution_count": null,
   "id": "a47c4a06-c435-410c-86e4-70cb83b3f60c",
   "metadata": {},
   "outputs": [],
   "source": [
    "# Reading DOGE\n",
    "DOGE_path = Path(\"../resources/DOGE-USD.csv\")\n",
    "DOGE_df = pd.read_csv(DOGE_path, index_col = \"Date\", parse_dates = True, infer_datetime_format = True)\n",
    "DOGE_df.head()"
   ]
  },
  {
   "cell_type": "code",
   "execution_count": null,
   "id": "16dd2d80-0ee9-4fa6-8028-c50bb41701fb",
   "metadata": {},
   "outputs": [],
   "source": [
    "# Concatenate the DataFrames\n",
    "crypto_df = pd.concat([BTC_df, ETH_df, DOGE_df],axis=1, keys=[\"BTC\",\"ETH\", \"DOGE\"])\n",
    "\n",
    "# Preview DataFrame\n",
    "crypto_df"
   ]
  },
  {
   "cell_type": "code",
   "execution_count": null,
   "id": "f00e7970-ed47-410d-a884-269c779c9f81",
   "metadata": {},
   "outputs": [],
   "source": [
    "# Choose the desired timeframe\n",
    "crypto_df = crypto_df.loc[\"2018-05-01\":\"2023-05-01\"]\n",
    "crypto_df"
   ]
  },
  {
   "cell_type": "code",
   "execution_count": null,
   "id": "9cb2a286-8eef-48e9-b80b-2f340eb1a812",
   "metadata": {},
   "outputs": [],
   "source": [
    "crypto_df = crypto_df.dropna()\n",
    "crypto_df"
   ]
  },
  {
   "cell_type": "markdown",
   "id": "4b5aa476-4e4a-4edd-84c4-d71ad56e61cc",
   "metadata": {},
   "source": [
    "# Commodities"
   ]
  },
  {
   "cell_type": "code",
   "execution_count": null,
   "id": "464fcd99-3a21-495d-894d-29cf3f2dba0f",
   "metadata": {},
   "outputs": [],
   "source": [
    "gold_df = pd.read_csv('../resources/gold.csv')\n",
    "copper_df = pd.read_csv('../resources/copper.csv')\n",
    "silver_df = pd.read_csv('../resources/silver.csv')"
   ]
  },
  {
   "cell_type": "code",
   "execution_count": null,
   "id": "b0033632-f0ed-4b28-bef1-b26233e3e53d",
   "metadata": {},
   "outputs": [],
   "source": [
    "gold_df.tail()"
   ]
  },
  {
   "cell_type": "code",
   "execution_count": null,
   "id": "fd40154d-20cb-46c9-abd2-aaa4ced534bd",
   "metadata": {},
   "outputs": [],
   "source": [
    "gold_df.rename(columns={'Date': 'timestamp'}, inplace=True)\n",
    "gold_df.rename(columns={'Close/Last': 'close'}, inplace=True)\n",
    "silver_df.rename(columns={'Date': 'timestamp'}, inplace=True)\n",
    "silver_df.rename(columns={'Close/Last': 'close'}, inplace=True)\n",
    "copper_df.rename(columns={'Date': 'timestamp'}, inplace=True)\n",
    "copper_df.rename(columns={'Close/Last': 'close'}, inplace=True)"
   ]
  },
  {
   "cell_type": "code",
   "execution_count": null,
   "id": "e1befede-4e67-44c1-b015-39dca1ba3958",
   "metadata": {},
   "outputs": [],
   "source": [
    "gold_df.set_index('timestamp', inplace=True)\n",
    "silver_df.set_index('timestamp', inplace=True)\n",
    "copper_df.set_index('timestamp', inplace=True)"
   ]
  },
  {
   "cell_type": "code",
   "execution_count": null,
   "id": "a3c0cfec-dbc8-4c41-a57f-ddad36c3c624",
   "metadata": {},
   "outputs": [],
   "source": [
    "gold_df.head()"
   ]
  },
  {
   "cell_type": "code",
   "execution_count": null,
   "id": "9060253d-2256-45ad-a0c6-a6fcd5d88d3e",
   "metadata": {},
   "outputs": [],
   "source": [
    "copper_df.head()"
   ]
  },
  {
   "cell_type": "code",
   "execution_count": null,
   "id": "f03ebee5-f4c9-4b9d-a8d0-8c5a6fb281af",
   "metadata": {},
   "outputs": [],
   "source": [
    "silver_df.head()"
   ]
  },
  {
   "cell_type": "code",
   "execution_count": null,
   "id": "9f7f6594-cf68-4eec-8deb-718813788cb9",
   "metadata": {},
   "outputs": [],
   "source": [
    "commodities_df = pd.concat([gold_df,silver_df,copper_df],axis=1, keys =[\"GOLD\",\"SILVER\",\"COPPER\"])\n",
    "commodities_df.head()"
   ]
  },
  {
   "cell_type": "code",
   "execution_count": null,
   "id": "57702204-1c9c-4797-9ab2-a253101b525e",
   "metadata": {},
   "outputs": [],
   "source": [
    "?MCSimulation"
   ]
  },
  {
   "cell_type": "code",
   "execution_count": null,
   "id": "716a46f7-b854-4ba2-b674-c15b6aace20f",
   "metadata": {},
   "outputs": [],
   "source": [
    "MC_5_year = MCSimulation(\n",
    "    portfolio_data =commodities_df ,\n",
    "    weights =[1/3,1/3,1/3],\n",
    "    num_simulation = 100,\n",
    "    num_trading_days = 252*5\n",
    ")"
   ]
  },
  {
   "cell_type": "code",
   "execution_count": null,
   "id": "694cac71-75c8-45cd-a533-738ed2777eb0",
   "metadata": {},
   "outputs": [],
   "source": [
    "MC_5_year.portfolio_data.head()"
   ]
  },
  {
   "cell_type": "code",
   "execution_count": null,
   "id": "7dd9ad3e-bd82-454a-81d0-98e8e775a5dd",
   "metadata": {},
   "outputs": [],
   "source": [
    "MC_5_year.calc_cumulative_return()"
   ]
  },
  {
   "cell_type": "code",
   "execution_count": null,
   "id": "16e96283-ac36-4ff3-aad1-6d0ef366d0c7",
   "metadata": {},
   "outputs": [],
   "source": [
    "line_plot = MC_5_year.plot_simulation()\n",
    "line_plot.get_figure().savefig(\"MC_5_year_sim_plot.png\",bbox_inches='tight')"
   ]
  },
  {
   "cell_type": "code",
   "execution_count": null,
   "id": "41c98b96-ffbf-4444-960a-9e21360f9b7e",
   "metadata": {},
   "outputs": [],
   "source": [
    "import holoviews as hv\n",
    "from holoviews import opts\n",
    "hv.extension('bokeh')\n"
   ]
  },
  {
   "cell_type": "code",
   "execution_count": null,
   "id": "0e733f2e-d5c2-4a92-b25e-0f7d3c613664",
   "metadata": {},
   "outputs": [],
   "source": [
    "simulation_data_df = MC_5_year.simulated_return\n",
    "\n",
    "# Convert the DataFrame to long-form\n",
    "long_form_data = simulation_data_df.stack().reset_index()\n",
    "long_form_data.columns = ['Time', 'Simulation', 'Value']\n",
    "\n",
    "# Import Holoviews and enable the Bokeh backend\n",
    "import holoviews as hv\n",
    "from holoviews import opts\n",
    "hv.extension('bokeh')\n",
    "\n",
    "# Create an interactive line plot using Holoviews\n",
    "curves = {sim: hv.Curve(long_form_data[long_form_data['Simulation'] == sim], kdims=['Time'], vdims=['Value']) for sim in long_form_data['Simulation'].unique()}\n",
    "interactive_plot = hv.NdOverlay(curves, kdims='Simulation')\n",
    "\n",
    "# Customize the plot appearance and interactivity (optional)\n",
    "interactive_plot.opts(\n",
    "    opts.Curve(width=800, height=400, line_alpha=0.8, tools=['hover'], show_grid=True)\n",
    ")\n",
    "\n"
   ]
  },
  {
   "cell_type": "code",
   "execution_count": null,
   "id": "75c8b008-4d50-4f13-a5a8-935275719801",
   "metadata": {},
   "outputs": [],
   "source": [
    "tbl_commodities =  MC_5_year.summarize_cumulative_return()"
   ]
  },
  {
   "cell_type": "code",
   "execution_count": null,
   "id": "42411b78-b5f9-4df7-b347-543ba3345e13",
   "metadata": {},
   "outputs": [],
   "source": [
    "tbl_commodities"
   ]
  },
  {
   "cell_type": "code",
   "execution_count": null,
   "id": "07cdeff6-ad3f-40cb-bc54-2897d0dac182",
   "metadata": {},
   "outputs": [],
   "source": [
    "MC_5_year.calc_cumulative_return()"
   ]
  },
  {
   "cell_type": "code",
   "execution_count": null,
   "id": "ab769d0e-7a00-4da6-8096-cf0eb4a3bf6f",
   "metadata": {},
   "outputs": [],
   "source": [
    "commodity_simulated_returns = {\n",
    "    'mean': list(MC_5_year.simulated_return.mean(axis=1)),\n",
    "    'median': list(MC_5_year.simulated_return.median(axis=1)),\n",
    "    'min': list(MC_5_year.simulated_return.min(axis=1)),\n",
    "    'max': list(MC_5_year.simulated_return.max(axis=1))\n",
    "}"
   ]
  },
  {
   "cell_type": "code",
   "execution_count": null,
   "id": "0d68a6b9-9ce8-4ba9-9308-dd97fad19fa2",
   "metadata": {},
   "outputs": [],
   "source": [
    "commodity_simulated_returns_df = pd.DataFrame(commodity_simulated_returns)"
   ]
  },
  {
   "cell_type": "code",
   "execution_count": null,
   "id": "6ad5f936-7882-4a24-a4a9-9aaa6cd2c043",
   "metadata": {},
   "outputs": [],
   "source": [
    "commodity_simulated_returns_df.head()"
   ]
  },
  {
   "cell_type": "code",
   "execution_count": null,
   "id": "12cec115-185f-4358-b382-46927f031c9c",
   "metadata": {},
   "outputs": [],
   "source": [
    "commodity_simulated_returns_df[['mean','median']].plot(title='Simulated cumulative return behavior of gold,silver,and copper over five years')"
   ]
  },
  {
   "cell_type": "code",
   "execution_count": null,
   "id": "43d515c3-5ce2-4779-8261-936c07dd1dc8",
   "metadata": {},
   "outputs": [],
   "source": [
    "initial_investment = 10000\n",
    "\n",
    "commodities_cumlative_pnl = initial_investment * commodity_simulated_returns_df\n",
    "\n",
    "commodities_cumlative_pnl.head()"
   ]
  },
  {
   "cell_type": "code",
   "execution_count": null,
   "id": "afb82953-2699-4378-bb1f-f7ba5770c496",
   "metadata": {},
   "outputs": [],
   "source": [
    "ci_lower = round(tbl_commodities[8]*10000,2)\n",
    "ci_upper = round(tbl_commodities[9]*10000,2)\n",
    "\n",
    "print('there is a 95% chance that an initial investment of $10,000 in these commodities over the next five years will end within the range of')\n",
    "print('$',{ci_lower} ,'and $',{ci_upper})"
   ]
  },
  {
   "cell_type": "code",
   "execution_count": null,
   "id": "9623b682-5fb1-40d8-bcf5-6d4415b29d2e",
   "metadata": {},
   "outputs": [],
   "source": [
    "import pandas as pd\n",
    "\n",
    "# Import the CSV data frame\n",
    "\n",
    "# Extract the closing prices of the three stocks\n",
    "gold_prices = gold_df['close']\n",
    "silver_prices = silver_df['close']\n",
    "copper_prices = copper_df['close']\n",
    "\n",
    "# Calculate the daily returns of each stock\n",
    "gold_returns = np.log(gold_prices) - np.log(gold_prices.shift(1))\n",
    "silver_returns = np.log(silver_prices) - np.log(silver_prices.shift(1))\n",
    "copper_returns = np.log(copper_prices) - np.log(copper_prices.shift(1))\n",
    "\n",
    "# Calculate the weighted daily returns\n",
    "weighted_returns = (1/3) * (gold_returns + silver_returns + copper_returns)\n",
    "weighted_returns.dropna()\n",
    "# Convert the daily returns into cumulative returns\n",
    "cumulative_returns = (1 + weighted_returns).cumprod()\n",
    "cumulative_returns.dropna()\n",
    "# Calculate the portfolio value over time\n",
    "portfolio_value = 10000 * cumulative_returns\n",
    "\n",
    "# Retrieve the portfolio value at the last date\n",
    "final_value = portfolio_value[1259]\n",
    "print('if you has invested 10,000 evenly into this commodities portfolio on may first 2018 it would be worth $')\n",
    "print(final_value),print('today')"
   ]
  },
  {
   "cell_type": "code",
   "execution_count": null,
   "id": "82c567db-2366-45f9-adad-414ad4227dbf",
   "metadata": {},
   "outputs": [],
   "source": []
  },
  {
   "cell_type": "code",
   "execution_count": null,
   "id": "d5ee47a8-22a5-41f3-a0a1-0d5713adbeb2",
   "metadata": {},
   "outputs": [],
   "source": []
  }
 ],
 "metadata": {
  "kernelspec": {
   "display_name": "Python 3 (ipykernel)",
   "language": "python",
   "name": "python3"
  },
  "language_info": {
   "codemirror_mode": {
    "name": "ipython",
    "version": 3
   },
   "file_extension": ".py",
   "mimetype": "text/x-python",
   "name": "python",
   "nbconvert_exporter": "python",
   "pygments_lexer": "ipython3",
   "version": "3.9.13"
  }
 },
 "nbformat": 4,
 "nbformat_minor": 5
}
